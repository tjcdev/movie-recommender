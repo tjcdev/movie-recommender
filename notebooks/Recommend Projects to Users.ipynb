{
 "cells": [
  {
   "cell_type": "markdown",
   "metadata": {},
   "source": [
    "# Recommend Projects to Users"
   ]
  },
  {
   "cell_type": "code",
   "execution_count": 1,
   "metadata": {},
   "outputs": [
    {
     "name": "stderr",
     "output_type": "stream",
     "text": [
      "Using TensorFlow backend.\n"
     ]
    }
   ],
   "source": [
    "from keras.models import load_model\n",
    "from sklearn.metrics.pairwise import cosine_similarity\n",
    "import pandas as pd\n",
    "import numpy as np\n",
    "np.random.seed(0)\n",
    "from time import gmtime, strftime\n",
    "from keras.models import Model\n",
    "from scipy.sparse import vstack\n",
    "\n",
    "import os\n",
    "import sys\n",
    "module_path = os.path.abspath(os.path.join('..'))\n",
    "if module_path not in sys.path:\n",
    "    sys.path.append(module_path)\n",
    "    \n",
    "from src.evaluate import evaluate\n",
    "from src.recommender import Recommender\n",
    "import src.load_data as load_data"
   ]
  },
  {
   "cell_type": "code",
   "execution_count": 2,
   "metadata": {},
   "outputs": [
    {
     "name": "stdout",
     "output_type": "stream",
     "text": [
      "WARNING:tensorflow:From /Users/thomascartwright/miniconda3/envs/cdea/lib/python3.6/site-packages/tensorflow/python/ops/control_flow_ops.py:423: colocate_with (from tensorflow.python.framework.ops) is deprecated and will be removed in a future version.\n",
      "Instructions for updating:\n",
      "Colocations handled automatically by placer.\n",
      "WARNING:tensorflow:From /Users/thomascartwright/miniconda3/envs/cdea/lib/python3.6/site-packages/keras/backend/tensorflow_backend.py:3445: calling dropout (from tensorflow.python.ops.nn_ops) with keep_prob is deprecated and will be removed in a future version.\n",
      "Instructions for updating:\n",
      "Please use `rate` instead of `keep_prob`. Rate should be set to `rate = 1 - keep_prob`.\n",
      "WARNING:tensorflow:From /Users/thomascartwright/miniconda3/envs/cdea/lib/python3.6/site-packages/tensorflow/python/ops/math_ops.py:3066: to_int32 (from tensorflow.python.ops.math_ops) is deprecated and will be removed in a future version.\n",
      "Instructions for updating:\n",
      "Use tf.cast instead.\n"
     ]
    }
   ],
   "source": [
    "# Load the autoencoder to reduce the dimensionality of our TF-IDF vectors\n",
    "model = load_model('autoencoder.h5')"
   ]
  },
  {
   "cell_type": "code",
   "execution_count": 3,
   "metadata": {},
   "outputs": [],
   "source": [
    "# Load the proejct data\n",
    "train_projects, train_x, test_projects, test_x, train_project_ids, test_project_ids = load_data.load_projects()\n",
    "train_x_projects = np.array(train_projects, dtype=np.int32).reshape(len(train_projects), 1)\n",
    "test_x_projects = np.array(test_projects, dtype=np.int32).reshape(len(test_projects), 1)\n",
    "\n",
    "# Prepare our variables to be used in recommendation\n",
    "x = vstack([train_x, test_x])\n",
    "x_projects = train_projects + test_projects\n",
    "x_project_ids = train_project_ids + test_project_ids\n",
    "\n",
    "# Load the users projects\n",
    "users_projects = load_data.load_user()"
   ]
  },
  {
   "cell_type": "code",
   "execution_count": 4,
   "metadata": {},
   "outputs": [],
   "source": [
    "# Create a model that we will use to extract the embedding layer output\n",
    "embed_model = Model(inputs=model.input, outputs=model.get_layer('embedding_layer').output)\n",
    "\n",
    "# The dimension that the TF-IDF vector will be reduced to\n",
    "embedding_size = model.get_layer('embedding_layer').output_shape[2]\n",
    "\n",
    "# Embed our TF-IDF Vectors for all Projects\n",
    "embeddings = embed_model.predict(x=[x, np.array(x_projects, dtype=np.int32).reshape(len(x_projects), 1)]).reshape(len(x_projects), embedding_size)"
   ]
  },
  {
   "cell_type": "markdown",
   "metadata": {},
   "source": [
    "### Make Recommendations"
   ]
  },
  {
   "cell_type": "code",
   "execution_count": 5,
   "metadata": {},
   "outputs": [],
   "source": [
    "# Initialise our recommender class\n",
    "rec = Recommender(x_project_ids)\n",
    "\n",
    "# Calculate our cosine similarity Matrix between all projects\n",
    "similarity_matrix = rec.similarity(embeddings)"
   ]
  },
  {
   "cell_type": "code",
   "execution_count": 6,
   "metadata": {},
   "outputs": [],
   "source": [
    "user_idx = 0\n",
    "user_projects = users_projects[user_idx].todense()\n",
    "user_projects = np.array((user_projects.T))\n",
    "done_projects, top_projects = rec.top_projects(similarity_matrix, user_projects)"
   ]
  },
  {
   "cell_type": "code",
   "execution_count": 8,
   "metadata": {},
   "outputs": [],
   "source": [
    "y_true, y_pred = rec.predictions(user_projects, done_projects, top_projects) \n",
    "\n",
    "precision, recall = evaluate(y_true, y_pred)"
   ]
  },
  {
   "cell_type": "code",
   "execution_count": 9,
   "metadata": {},
   "outputs": [
    {
     "name": "stdout",
     "output_type": "stream",
     "text": [
      "--------------------------------\n",
      "Model Results\n",
      "Precision: 0.0\n",
      "Recall: 0.0\n",
      "--------------------------------\n"
     ]
    }
   ],
   "source": [
    "print('--------------------------------')\n",
    "print('Model Results')\n",
    "print('Precision: ' + str(precision))\n",
    "print('Recall: ' + str(recall))\n",
    "print('--------------------------------')"
   ]
  },
  {
   "cell_type": "code",
   "execution_count": null,
   "metadata": {},
   "outputs": [],
   "source": []
  }
 ],
 "metadata": {
  "kernelspec": {
   "display_name": "Python 3",
   "language": "python",
   "name": "python3"
  },
  "language_info": {
   "codemirror_mode": {
    "name": "ipython",
    "version": 3
   },
   "file_extension": ".py",
   "mimetype": "text/x-python",
   "name": "python",
   "nbconvert_exporter": "python",
   "pygments_lexer": "ipython3",
   "version": "3.6.8"
  }
 },
 "nbformat": 4,
 "nbformat_minor": 2
}
